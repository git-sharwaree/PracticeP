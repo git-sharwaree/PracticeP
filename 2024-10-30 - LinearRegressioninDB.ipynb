{
 "cells": [
  {
   "cell_type": "markdown",
   "metadata": {
    "application/vnd.databricks.v1+cell": {
     "cellMetadata": {},
     "inputWidgets": {},
     "nuid": "96816ed7-b08a-4ca3-abb9-f99880c3535d",
     "showTitle": false,
     "tableResultSettingsMap": {},
     "title": ""
    }
   },
   "source": [
    "\n",
    "## Overview\n",
    "\n",
    "This notebook will show you how to create and query a table or DataFrame that you uploaded to DBFS. [DBFS](https://docs.databricks.com/user-guide/dbfs-databricks-file-system.html) is a Databricks File System that allows you to store data for querying inside of Databricks. This notebook assumes that you have a file already inside of DBFS that you would like to read from.\n",
    "\n",
    "This notebook is written in **Python** so the default cell type is Python. However, you can use different languages by using the `%LANGUAGE` syntax. Python, Scala, SQL, and R are all supported."
   ]
  },
  {
   "cell_type": "code",
   "execution_count": 0,
   "metadata": {
    "application/vnd.databricks.v1+cell": {
     "cellMetadata": {
      "byteLimit": 2048000,
      "rowLimit": 10000
     },
     "inputWidgets": {},
     "nuid": "6482be4c-f067-47c9-b0ac-35c938b94601",
     "showTitle": false,
     "tableResultSettingsMap": {},
     "title": ""
    }
   },
   "outputs": [
    {
     "output_type": "stream",
     "name": "stdout",
     "output_type": "stream",
     "text": [
      "+----------+----+------+------+---+------+----+\n|total_bill| tip|   sex|smoker|day|  time|size|\n+----------+----+------+------+---+------+----+\n|     16.99|1.01|Female|    No|Sun|Dinner|   2|\n|     10.34|1.66|  Male|    No|Sun|Dinner|   3|\n|     21.01| 3.5|  Male|    No|Sun|Dinner|   3|\n|     23.68|3.31|  Male|    No|Sun|Dinner|   2|\n|     24.59|3.61|Female|    No|Sun|Dinner|   4|\n|     25.29|4.71|  Male|    No|Sun|Dinner|   4|\n|      8.77| 2.0|  Male|    No|Sun|Dinner|   2|\n|     26.88|3.12|  Male|    No|Sun|Dinner|   4|\n|     15.04|1.96|  Male|    No|Sun|Dinner|   2|\n|     14.78|3.23|  Male|    No|Sun|Dinner|   2|\n|     10.27|1.71|  Male|    No|Sun|Dinner|   2|\n|     35.26| 5.0|Female|    No|Sun|Dinner|   4|\n|     15.42|1.57|  Male|    No|Sun|Dinner|   2|\n|     18.43| 3.0|  Male|    No|Sun|Dinner|   4|\n|     14.83|3.02|Female|    No|Sun|Dinner|   2|\n|     21.58|3.92|  Male|    No|Sun|Dinner|   2|\n|     10.33|1.67|Female|    No|Sun|Dinner|   3|\n|     16.29|3.71|  Male|    No|Sun|Dinner|   3|\n|     16.97| 3.5|Female|    No|Sun|Dinner|   3|\n|     20.65|3.35|  Male|    No|Sat|Dinner|   3|\n+----------+----+------+------+---+------+----+\nonly showing top 20 rows\n\n"
     ]
    }
   ],
   "source": [
    "# File location and type\n",
    "file_location = \"/FileStore/tables/tips.csv\"\n",
    "file_type = \"csv\"\n",
    "\n",
    "df=spark.read.csv(file_location,header=True,inferSchema=True)\n",
    "df.show()"
   ]
  },
  {
   "cell_type": "code",
   "execution_count": 0,
   "metadata": {
    "application/vnd.databricks.v1+cell": {
     "cellMetadata": {
      "byteLimit": 2048000,
      "rowLimit": 10000
     },
     "inputWidgets": {},
     "nuid": "2f63ee24-755d-41c1-b2d7-3a00b7c97313",
     "showTitle": false,
     "tableResultSettingsMap": {},
     "title": ""
    }
   },
   "outputs": [
    {
     "output_type": "stream",
     "name": "stdout",
     "output_type": "stream",
     "text": [
      "root\n |-- total_bill: double (nullable = true)\n |-- tip: double (nullable = true)\n |-- sex: string (nullable = true)\n |-- smoker: string (nullable = true)\n |-- day: string (nullable = true)\n |-- time: string (nullable = true)\n |-- size: integer (nullable = true)\n\n"
     ]
    }
   ],
   "source": [
    "df.printSchema()"
   ]
  },
  {
   "cell_type": "code",
   "execution_count": 0,
   "metadata": {
    "application/vnd.databricks.v1+cell": {
     "cellMetadata": {
      "byteLimit": 2048000,
      "rowLimit": 10000
     },
     "inputWidgets": {},
     "nuid": "a9a561f0-863a-4198-a09c-e6ffdff61ad6",
     "showTitle": false,
     "tableResultSettingsMap": {},
     "title": ""
    }
   },
   "outputs": [
    {
     "output_type": "stream",
     "name": "stdout",
     "output_type": "stream",
     "text": [
      "+----------+----+------+------+---+------+----+------+---------+------+-------+\n|total_bill| tip|   sex|smoker|day|  time|size|sex_in|smoker_in|day_in|time_in|\n+----------+----+------+------+---+------+----+------+---------+------+-------+\n|     16.99|1.01|Female|    No|Sun|Dinner|   2|   1.0|      0.0|   1.0|    0.0|\n|     10.34|1.66|  Male|    No|Sun|Dinner|   3|   0.0|      0.0|   1.0|    0.0|\n|     21.01| 3.5|  Male|    No|Sun|Dinner|   3|   0.0|      0.0|   1.0|    0.0|\n|     23.68|3.31|  Male|    No|Sun|Dinner|   2|   0.0|      0.0|   1.0|    0.0|\n|     24.59|3.61|Female|    No|Sun|Dinner|   4|   1.0|      0.0|   1.0|    0.0|\n|     25.29|4.71|  Male|    No|Sun|Dinner|   4|   0.0|      0.0|   1.0|    0.0|\n|      8.77| 2.0|  Male|    No|Sun|Dinner|   2|   0.0|      0.0|   1.0|    0.0|\n|     26.88|3.12|  Male|    No|Sun|Dinner|   4|   0.0|      0.0|   1.0|    0.0|\n|     15.04|1.96|  Male|    No|Sun|Dinner|   2|   0.0|      0.0|   1.0|    0.0|\n|     14.78|3.23|  Male|    No|Sun|Dinner|   2|   0.0|      0.0|   1.0|    0.0|\n|     10.27|1.71|  Male|    No|Sun|Dinner|   2|   0.0|      0.0|   1.0|    0.0|\n|     35.26| 5.0|Female|    No|Sun|Dinner|   4|   1.0|      0.0|   1.0|    0.0|\n|     15.42|1.57|  Male|    No|Sun|Dinner|   2|   0.0|      0.0|   1.0|    0.0|\n|     18.43| 3.0|  Male|    No|Sun|Dinner|   4|   0.0|      0.0|   1.0|    0.0|\n|     14.83|3.02|Female|    No|Sun|Dinner|   2|   1.0|      0.0|   1.0|    0.0|\n|     21.58|3.92|  Male|    No|Sun|Dinner|   2|   0.0|      0.0|   1.0|    0.0|\n|     10.33|1.67|Female|    No|Sun|Dinner|   3|   1.0|      0.0|   1.0|    0.0|\n|     16.29|3.71|  Male|    No|Sun|Dinner|   3|   0.0|      0.0|   1.0|    0.0|\n|     16.97| 3.5|Female|    No|Sun|Dinner|   3|   1.0|      0.0|   1.0|    0.0|\n|     20.65|3.35|  Male|    No|Sat|Dinner|   3|   0.0|      0.0|   0.0|    0.0|\n+----------+----+------+------+---+------+----+------+---------+------+-------+\nonly showing top 20 rows\n\n"
     ]
    }
   ],
   "source": [
    "#handling categorical vals\n",
    "from pyspark.ml.feature import StringIndexer\n",
    "indexer=StringIndexer(inputCols=[\"sex\",\"smoker\",\"day\",\"time\"],outputCols=[\"sex_in\",\"smoker_in\",\"day_in\",\"time_in\"])\n",
    "df=indexer.fit(df).transform(df)\n",
    "df.show()"
   ]
  },
  {
   "cell_type": "code",
   "execution_count": 0,
   "metadata": {
    "application/vnd.databricks.v1+cell": {
     "cellMetadata": {
      "byteLimit": 2048000,
      "rowLimit": 10000
     },
     "inputWidgets": {},
     "nuid": "446ec957-95a5-4683-bc63-c7b3ad73a025",
     "showTitle": false,
     "tableResultSettingsMap": {},
     "title": ""
    }
   },
   "outputs": [
    {
     "output_type": "stream",
     "name": "stdout",
     "output_type": "stream",
     "text": [
      "Out[5]: ['total_bill',\n 'tip',\n 'sex',\n 'smoker',\n 'day',\n 'time',\n 'size',\n 'sex_in',\n 'smoker_in',\n 'day_in',\n 'time_in']"
     ]
    }
   ],
   "source": [
    "df.columns"
   ]
  },
  {
   "cell_type": "code",
   "execution_count": 0,
   "metadata": {
    "application/vnd.databricks.v1+cell": {
     "cellMetadata": {
      "byteLimit": 2048000,
      "rowLimit": 10000
     },
     "inputWidgets": {},
     "nuid": "bd604768-7c66-4616-a661-c147daf5b09b",
     "showTitle": false,
     "tableResultSettingsMap": {},
     "title": ""
    }
   },
   "outputs": [
    {
     "output_type": "stream",
     "name": "stdout",
     "output_type": "stream",
     "text": [
      "+--------------------+\n|Independent features|\n+--------------------+\n|[1.01,2.0,1.0,0.0...|\n|[1.66,3.0,0.0,0.0...|\n|[3.5,3.0,0.0,0.0,...|\n|[3.31,2.0,0.0,0.0...|\n|[3.61,4.0,1.0,0.0...|\n|[4.71,4.0,0.0,0.0...|\n|[2.0,2.0,0.0,0.0,...|\n|[3.12,4.0,0.0,0.0...|\n|[1.96,2.0,0.0,0.0...|\n|[3.23,2.0,0.0,0.0...|\n|[1.71,2.0,0.0,0.0...|\n|[5.0,4.0,1.0,0.0,...|\n|[1.57,2.0,0.0,0.0...|\n|[3.0,4.0,0.0,0.0,...|\n|[3.02,2.0,1.0,0.0...|\n|[3.92,2.0,0.0,0.0...|\n|[1.67,3.0,1.0,0.0...|\n|[3.71,3.0,0.0,0.0...|\n|[3.5,3.0,1.0,0.0,...|\n|(6,[0,1],[3.35,3.0])|\n+--------------------+\nonly showing top 20 rows\n\n"
     ]
    }
   ],
   "source": [
    "from pyspark.ml.feature import VectorAssembler\n",
    "featureass=VectorAssembler(inputCols=['tip','size','sex_in','smoker_in','day_in','time_in'],outputCol=\"Independent features\")\n",
    "output=featureass.transform(df)\n",
    "output.select('Independent features').show()"
   ]
  },
  {
   "cell_type": "code",
   "execution_count": 0,
   "metadata": {
    "application/vnd.databricks.v1+cell": {
     "cellMetadata": {
      "byteLimit": 2048000,
      "rowLimit": 10000
     },
     "inputWidgets": {},
     "nuid": "b9a70761-dce7-4446-86b2-2a13283463d6",
     "showTitle": false,
     "tableResultSettingsMap": {},
     "title": ""
    }
   },
   "outputs": [
    {
     "output_type": "stream",
     "name": "stdout",
     "output_type": "stream",
     "text": [
      "+--------------------+----------+\n|Independent features|total_bill|\n+--------------------+----------+\n|[1.01,2.0,1.0,0.0...|     16.99|\n|[1.66,3.0,0.0,0.0...|     10.34|\n|[3.5,3.0,0.0,0.0,...|     21.01|\n|[3.31,2.0,0.0,0.0...|     23.68|\n|[3.61,4.0,1.0,0.0...|     24.59|\n|[4.71,4.0,0.0,0.0...|     25.29|\n|[2.0,2.0,0.0,0.0,...|      8.77|\n|[3.12,4.0,0.0,0.0...|     26.88|\n|[1.96,2.0,0.0,0.0...|     15.04|\n|[3.23,2.0,0.0,0.0...|     14.78|\n|[1.71,2.0,0.0,0.0...|     10.27|\n|[5.0,4.0,1.0,0.0,...|     35.26|\n|[1.57,2.0,0.0,0.0...|     15.42|\n|[3.0,4.0,0.0,0.0,...|     18.43|\n|[3.02,2.0,1.0,0.0...|     14.83|\n|[3.92,2.0,0.0,0.0...|     21.58|\n|[1.67,3.0,1.0,0.0...|     10.33|\n|[3.71,3.0,0.0,0.0...|     16.29|\n|[3.5,3.0,1.0,0.0,...|     16.97|\n|(6,[0,1],[3.35,3.0])|     20.65|\n+--------------------+----------+\nonly showing top 20 rows\n\n"
     ]
    }
   ],
   "source": [
    "finaldata=output.select(\"Independent features\",\"total_bill\")\n",
    "finaldata.show()"
   ]
  },
  {
   "cell_type": "code",
   "execution_count": 0,
   "metadata": {
    "application/vnd.databricks.v1+cell": {
     "cellMetadata": {
      "byteLimit": 2048000,
      "rowLimit": 10000
     },
     "inputWidgets": {},
     "nuid": "f7b4ca1d-057d-4329-9801-a4b6df751568",
     "showTitle": false,
     "tableResultSettingsMap": {},
     "title": ""
    }
   },
   "outputs": [],
   "source": [
    "# training the model\n",
    "from pyspark.ml.regression import LinearRegression\n",
    "test_data,train_data=finaldata.randomSplit([0.75,0.25])\n",
    "regressor=LinearRegression(featuresCol='Independent features',labelCol='total_bill')\n",
    "regressor=regressor.fit(train_data)\n"
   ]
  },
  {
   "cell_type": "code",
   "execution_count": 0,
   "metadata": {
    "application/vnd.databricks.v1+cell": {
     "cellMetadata": {
      "byteLimit": 2048000,
      "rowLimit": 10000
     },
     "inputWidgets": {},
     "nuid": "ab842a27-38b1-422d-8643-2b45a5b2a42b",
     "showTitle": false,
     "tableResultSettingsMap": {},
     "title": ""
    }
   },
   "outputs": [
    {
     "output_type": "stream",
     "name": "stdout",
     "output_type": "stream",
     "text": [
      "Out[19]: DenseVector([1.1439, 5.3446, -2.2033, 4.4604, 1.0908, -2.6246])"
     ]
    }
   ],
   "source": [
    "regressor.coefficients"
   ]
  },
  {
   "cell_type": "code",
   "execution_count": 0,
   "metadata": {
    "application/vnd.databricks.v1+cell": {
     "cellMetadata": {
      "byteLimit": 2048000,
      "rowLimit": 10000
     },
     "inputWidgets": {},
     "nuid": "925875bd-fe50-4c20-8237-64b471e5e6ed",
     "showTitle": false,
     "tableResultSettingsMap": {},
     "title": ""
    }
   },
   "outputs": [
    {
     "output_type": "stream",
     "name": "stdout",
     "output_type": "stream",
     "text": [
      "Out[20]: 1.5705803767138033"
     ]
    }
   ],
   "source": [
    "regressor.intercept"
   ]
  },
  {
   "cell_type": "code",
   "execution_count": 0,
   "metadata": {
    "application/vnd.databricks.v1+cell": {
     "cellMetadata": {
      "byteLimit": 2048000,
      "rowLimit": 10000
     },
     "inputWidgets": {},
     "nuid": "e142a175-f99d-4975-88b2-8287b1e81558",
     "showTitle": false,
     "tableResultSettingsMap": {},
     "title": ""
    }
   },
   "outputs": [],
   "source": [
    "# prediction\n",
    "predresult=regressor.evaluate(test_data)"
   ]
  },
  {
   "cell_type": "code",
   "execution_count": 0,
   "metadata": {
    "application/vnd.databricks.v1+cell": {
     "cellMetadata": {
      "byteLimit": 2048000,
      "rowLimit": 10000
     },
     "inputWidgets": {},
     "nuid": "6a631e97-1f09-4517-960b-f82188c4596d",
     "showTitle": false,
     "tableResultSettingsMap": {},
     "title": ""
    }
   },
   "outputs": [
    {
     "output_type": "stream",
     "name": "stdout",
     "output_type": "stream",
     "text": [
      "+--------------------+----------+------------------+\n|Independent features|total_bill|        prediction|\n+--------------------+----------+------------------+\n|(6,[0,1],[1.25,2.0])|     10.07|13.689667124014218|\n|(6,[0,1],[1.25,2.0])|     10.51|13.689667124014218|\n|(6,[0,1],[1.45,2.0])|      9.55|13.918446701030707|\n|(6,[0,1],[1.47,2.0])|     10.77|13.941324658732356|\n|(6,[0,1],[1.97,2.0])|     12.02| 14.51327360127358|\n| (6,[0,1],[2.0,2.0])|     13.37|14.547590537826053|\n| (6,[0,1],[2.0,3.0])|     16.31| 19.89219773329973|\n|(6,[0,1],[2.01,2.0])|     20.23|14.559029516676878|\n|(6,[0,1],[2.24,3.0])|     16.04| 20.16673322571952|\n|(6,[0,1],[2.31,3.0])|     18.69| 20.24680607767529|\n| (6,[0,1],[2.5,4.0])|     18.35|25.808753871314632|\n| (6,[0,1],[3.0,2.0])|      14.0|  15.6914884229085|\n| (6,[0,1],[3.0,4.0])|     20.45| 26.38070281385586|\n|(6,[0,1],[3.18,2.0])|     19.82|15.897390042223341|\n|(6,[0,1],[3.27,2.0])|     17.78| 16.00034085188076|\n|(6,[0,1],[3.35,3.0])|     20.65|21.436459878161035|\n| (6,[0,1],[3.6,3.0])|     24.06|21.722434349431648|\n| (6,[0,1],[4.3,2.0])|      21.7| 17.17855567351568|\n| (6,[0,1],[5.0,3.0])|     31.27| 23.32389138854707|\n|(6,[0,1],[5.92,3.0])|     29.03|24.376277442822925|\n+--------------------+----------+------------------+\nonly showing top 20 rows\n\n"
     ]
    }
   ],
   "source": [
    "predresult.predictions.show()"
   ]
  },
  {
   "cell_type": "code",
   "execution_count": 0,
   "metadata": {
    "application/vnd.databricks.v1+cell": {
     "cellMetadata": {
      "byteLimit": 2048000,
      "rowLimit": 10000
     },
     "inputWidgets": {},
     "nuid": "2eacef16-2682-494b-aace-263d27d05979",
     "showTitle": false,
     "tableResultSettingsMap": {},
     "title": ""
    }
   },
   "outputs": [
    {
     "output_type": "stream",
     "name": "stdout",
     "output_type": "stream",
     "text": [
      "Out[23]: 0.5151908806248313"
     ]
    }
   ],
   "source": [
    "# performance metrics\n",
    "predresult.r2"
   ]
  },
  {
   "cell_type": "code",
   "execution_count": 0,
   "metadata": {
    "application/vnd.databricks.v1+cell": {
     "cellMetadata": {
      "byteLimit": 2048000,
      "rowLimit": 10000
     },
     "inputWidgets": {},
     "nuid": "c4a4bd33-035c-4ad1-80b7-d7327d5bd4cd",
     "showTitle": false,
     "tableResultSettingsMap": {},
     "title": ""
    }
   },
   "outputs": [
    {
     "output_type": "stream",
     "name": "stdout",
     "output_type": "stream",
     "text": [
      "Out[24]: 4.899710442942955"
     ]
    }
   ],
   "source": [
    "predresult.meanAbsoluteError"
   ]
  },
  {
   "cell_type": "code",
   "execution_count": 0,
   "metadata": {
    "application/vnd.databricks.v1+cell": {
     "cellMetadata": {
      "byteLimit": 2048000,
      "rowLimit": 10000
     },
     "inputWidgets": {},
     "nuid": "3ac31625-e10f-473d-9bf7-8ec52c567266",
     "showTitle": false,
     "tableResultSettingsMap": {},
     "title": ""
    }
   },
   "outputs": [
    {
     "output_type": "stream",
     "name": "stdout",
     "output_type": "stream",
     "text": [
      "Out[25]: 38.34385195257857"
     ]
    }
   ],
   "source": [
    "predresult.meanSquaredError"
   ]
  },
  {
   "cell_type": "code",
   "execution_count": 0,
   "metadata": {
    "application/vnd.databricks.v1+cell": {
     "cellMetadata": {},
     "inputWidgets": {},
     "nuid": "b2e6ac7b-cc75-41c0-b788-0535ad4f2723",
     "showTitle": false,
     "tableResultSettingsMap": {},
     "title": ""
    }
   },
   "outputs": [],
   "source": []
  }
 ],
 "metadata": {
  "application/vnd.databricks.v1+notebook": {
   "dashboards": [],
   "environmentMetadata": null,
   "language": "python",
   "notebookMetadata": {
    "pythonIndentUnit": 4
   },
   "notebookName": "2024-10-30 - LinearRegressioninDB",
   "widgets": {}
  }
 },
 "nbformat": 4,
 "nbformat_minor": 0
}
